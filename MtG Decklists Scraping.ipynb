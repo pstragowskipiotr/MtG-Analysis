{
 "cells": [
  {
   "cell_type": "code",
   "execution_count": 7,
   "metadata": {},
   "outputs": [],
   "source": [
    "# MTG RELATED CONSTANTS\n",
    "CardTypes = ['creature', 'planeswalker', 'sorcery', 'instant', 'enchantment', 'land', 'artifact'] "
   ]
  },
  {
   "cell_type": "code",
   "execution_count": 8,
   "metadata": {},
   "outputs": [],
   "source": [
    "from bs4 import BeautifulSoup\n",
    "import requests\n",
    "\n",
    "def get_soup(request_url):\n",
    "    page_html = requests.get(request_url)\n",
    "    return BeautifulSoup(page_html.content, features=\"lxml\")"
   ]
  },
  {
   "cell_type": "code",
   "execution_count": 9,
   "metadata": {},
   "outputs": [],
   "source": [
    "# takes a content bean containing a given deck and parses it \n",
    "def read_deck(cb, include_name = False):\n",
    "    name = cb.find('h4').contents[0]\n",
    "\n",
    "    type_divs = dict()\n",
    "    for div in cb.find_all('div'):\n",
    "        if 'class' in div.attrs:\n",
    "            for ctype in CardTypes: \n",
    "                if ('sorted-by-' + ctype) in div['class']:\n",
    "                    type_divs[ctype] = div\n",
    "                    \n",
    "    def cards_of_type(ctype):\n",
    "        if ctype in type_divs.keys():\n",
    "            number_of_cards = [span.contents[0] for span in type_divs[ctype].find_all('span') \n",
    "                       if 'card-count' in span['class']]\n",
    "            name_of_cards = [span.contents[0].contents[0] for span in type_divs[ctype].find_all('span') \n",
    "                     if 'card-name' in span['class']]\n",
    "            return list(zip(name_of_cards, number_of_cards))\n",
    "        else:\n",
    "            return []\n",
    "\n",
    "    deck = []\n",
    "    for ctype in CardTypes:\n",
    "        deck = deck + cards_of_type(ctype)\n",
    "    if include_name:\n",
    "        return (name, deck)\n",
    "    else: \n",
    "        return deck"
   ]
  },
  {
   "cell_type": "code",
   "execution_count": 10,
   "metadata": {},
   "outputs": [],
   "source": [
    "def decks_in_url(url):\n",
    "    soup = get_soup(url)\n",
    "    \n",
    "    content_beans = []\n",
    "    for link in soup.find_all('div'):\n",
    "        try: \n",
    "            cl = link['class']\n",
    "            if cl == ['content', 'beanSpacing']:\n",
    "                content_beans.append(link)\n",
    "        except KeyError:\n",
    "            pass\n",
    "        \n",
    "    return [read_deck(cb) for cb in content_beans]"
   ]
  },
  {
   "cell_type": "code",
   "execution_count": 11,
   "metadata": {},
   "outputs": [],
   "source": [
    "def create_deck_db(deck_list):\n",
    "    cards_appearing = [p[0] for deck in deck_list for p in deck]\n",
    "    cards_index = list(set(cards_appearing))\n",
    "    \n",
    "    # takes a deck given a list of pairs (Card, quantity) and returns an array indexed by cards_index\n",
    "    def deck_in_pairs_into_array(deck):\n",
    "        a = [0 for i in range(len(cards_index))]\n",
    "        for p in deck:\n",
    "            a[cards_index.index(p[0])] = int(p[1])\n",
    "        return a\n",
    "    \n",
    "    return cards_index, [deck_in_pairs_into_array(deck) for deck in deck_list]"
   ]
  },
  {
   "cell_type": "code",
   "execution_count": 12,
   "metadata": {},
   "outputs": [],
   "source": [
    "import time\n",
    "import json \n",
    "\n",
    "mythic_url = 'https://magic.wizards.com/en/events/coverage/2019MC2/all-mythic-championship-ii-modern-decklists-2019-04-26'\n",
    "mythic_soup = get_soup(mythic_url)\n",
    "decklists_urls = [link['href'] for link in mythic_soup.find_all('a') if 'Modern Decks' in link.contents[0]]\n",
    "\n",
    "mythic_decks = []\n",
    "for url in decklists_urls:\n",
    "    time.sleep(10)\n",
    "    mythic_decks = mythic_decks + decks_in_url(url)\n",
    "    \n",
    "cards_index, deck_list = create_deck_db(mythic_decks)\n",
    "db = { 'cards_index' : cards_index, 'deck_list' : deck_list }\n",
    "\n",
    "with open('london_db.json', 'w') as file:\n",
    "    json.dump(db, file)"
   ]
  },
  {
   "cell_type": "code",
   "execution_count": null,
   "metadata": {},
   "outputs": [],
   "source": []
  }
 ],
 "metadata": {
  "kernelspec": {
   "display_name": "Python 3",
   "language": "python",
   "name": "python3"
  },
  "language_info": {
   "codemirror_mode": {
    "name": "ipython",
    "version": 3
   },
   "file_extension": ".py",
   "mimetype": "text/x-python",
   "name": "python",
   "nbconvert_exporter": "python",
   "pygments_lexer": "ipython3",
   "version": "3.7.1"
  }
 },
 "nbformat": 4,
 "nbformat_minor": 2
}
